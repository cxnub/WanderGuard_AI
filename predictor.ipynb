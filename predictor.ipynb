{
 "cells": [
  {
   "cell_type": "code",
   "execution_count": 12,
   "metadata": {},
   "outputs": [],
   "source": [
    "import pandas as pd\n",
    "import numpy as np"
   ]
  },
  {
   "cell_type": "code",
   "execution_count": 13,
   "metadata": {},
   "outputs": [],
   "source": [
    "# laod data\n",
    "data = pd.read_csv('dataset/dementia_wandering_data.csv')"
   ]
  },
  {
   "cell_type": "code",
   "execution_count": 14,
   "metadata": {},
   "outputs": [
    {
     "name": "stdout",
     "output_type": "stream",
     "text": [
      "(10000, 5)\n"
     ]
    }
   ],
   "source": [
    "# get the number of rows and columns\n",
    "print(data.shape)"
   ]
  },
  {
   "cell_type": "code",
   "execution_count": 15,
   "metadata": {},
   "outputs": [
    {
     "data": {
      "text/html": [
       "<div>\n",
       "<style scoped>\n",
       "    .dataframe tbody tr th:only-of-type {\n",
       "        vertical-align: middle;\n",
       "    }\n",
       "\n",
       "    .dataframe tbody tr th {\n",
       "        vertical-align: top;\n",
       "    }\n",
       "\n",
       "    .dataframe thead th {\n",
       "        text-align: right;\n",
       "    }\n",
       "</style>\n",
       "<table border=\"1\" class=\"dataframe\">\n",
       "  <thead>\n",
       "    <tr style=\"text-align: right;\">\n",
       "      <th></th>\n",
       "      <th>timestamp</th>\n",
       "      <th>distance_from_safe_zone</th>\n",
       "      <th>heart_rate</th>\n",
       "      <th>speed</th>\n",
       "      <th>wandering_label</th>\n",
       "    </tr>\n",
       "  </thead>\n",
       "  <tbody>\n",
       "    <tr>\n",
       "      <th>0</th>\n",
       "      <td>2022-07-02 12:12:18.793879376</td>\n",
       "      <td>52</td>\n",
       "      <td>112</td>\n",
       "      <td>1.264261</td>\n",
       "      <td>0</td>\n",
       "    </tr>\n",
       "    <tr>\n",
       "      <th>1</th>\n",
       "      <td>2021-11-15 09:37:12.583258320</td>\n",
       "      <td>315</td>\n",
       "      <td>79</td>\n",
       "      <td>2.804538</td>\n",
       "      <td>1</td>\n",
       "    </tr>\n",
       "    <tr>\n",
       "      <th>2</th>\n",
       "      <td>2020-09-09 22:11:07.506750672</td>\n",
       "      <td>66</td>\n",
       "      <td>84</td>\n",
       "      <td>0.848975</td>\n",
       "      <td>1</td>\n",
       "    </tr>\n",
       "    <tr>\n",
       "      <th>3</th>\n",
       "      <td>2021-11-23 21:00:42.124212416</td>\n",
       "      <td>0</td>\n",
       "      <td>62</td>\n",
       "      <td>0.322175</td>\n",
       "      <td>0</td>\n",
       "    </tr>\n",
       "    <tr>\n",
       "      <th>4</th>\n",
       "      <td>2021-10-22 14:01:11.287128712</td>\n",
       "      <td>463</td>\n",
       "      <td>107</td>\n",
       "      <td>1.520318</td>\n",
       "      <td>1</td>\n",
       "    </tr>\n",
       "  </tbody>\n",
       "</table>\n",
       "</div>"
      ],
      "text/plain": [
       "                       timestamp  distance_from_safe_zone  heart_rate  \\\n",
       "0  2022-07-02 12:12:18.793879376                       52         112   \n",
       "1  2021-11-15 09:37:12.583258320                      315          79   \n",
       "2  2020-09-09 22:11:07.506750672                       66          84   \n",
       "3  2021-11-23 21:00:42.124212416                        0          62   \n",
       "4  2021-10-22 14:01:11.287128712                      463         107   \n",
       "\n",
       "      speed  wandering_label  \n",
       "0  1.264261                0  \n",
       "1  2.804538                1  \n",
       "2  0.848975                1  \n",
       "3  0.322175                0  \n",
       "4  1.520318                1  "
      ]
     },
     "execution_count": 15,
     "metadata": {},
     "output_type": "execute_result"
    }
   ],
   "source": [
    "# extract the first 5 row\n",
    "data.head()"
   ]
  },
  {
   "cell_type": "code",
   "execution_count": 16,
   "metadata": {},
   "outputs": [],
   "source": [
    "# split the data into features and target\n",
    "X = data.iloc[:, :-1]\n",
    "y = data.iloc[:, -1]"
   ]
  },
  {
   "cell_type": "code",
   "execution_count": 17,
   "metadata": {},
   "outputs": [
    {
     "data": {
      "text/html": [
       "<div>\n",
       "<style scoped>\n",
       "    .dataframe tbody tr th:only-of-type {\n",
       "        vertical-align: middle;\n",
       "    }\n",
       "\n",
       "    .dataframe tbody tr th {\n",
       "        vertical-align: top;\n",
       "    }\n",
       "\n",
       "    .dataframe thead th {\n",
       "        text-align: right;\n",
       "    }\n",
       "</style>\n",
       "<table border=\"1\" class=\"dataframe\">\n",
       "  <thead>\n",
       "    <tr style=\"text-align: right;\">\n",
       "      <th></th>\n",
       "      <th>timestamp</th>\n",
       "      <th>distance_from_safe_zone</th>\n",
       "      <th>heart_rate</th>\n",
       "      <th>speed</th>\n",
       "    </tr>\n",
       "  </thead>\n",
       "  <tbody>\n",
       "    <tr>\n",
       "      <th>9254</th>\n",
       "      <td>2021-07-23 20:19:39.477947792</td>\n",
       "      <td>423</td>\n",
       "      <td>72</td>\n",
       "      <td>3.375025</td>\n",
       "    </tr>\n",
       "    <tr>\n",
       "      <th>1561</th>\n",
       "      <td>2021-06-16 07:05:33.753375336</td>\n",
       "      <td>148</td>\n",
       "      <td>103</td>\n",
       "      <td>2.300360</td>\n",
       "    </tr>\n",
       "    <tr>\n",
       "      <th>1670</th>\n",
       "      <td>2022-04-01 14:27:32.565256520</td>\n",
       "      <td>28</td>\n",
       "      <td>86</td>\n",
       "      <td>4.887102</td>\n",
       "    </tr>\n",
       "    <tr>\n",
       "      <th>6087</th>\n",
       "      <td>2021-07-12 17:48:52.493249320</td>\n",
       "      <td>0</td>\n",
       "      <td>66</td>\n",
       "      <td>0.323448</td>\n",
       "    </tr>\n",
       "    <tr>\n",
       "      <th>6669</th>\n",
       "      <td>2022-05-09 03:41:38.289828976</td>\n",
       "      <td>0</td>\n",
       "      <td>72</td>\n",
       "      <td>0.334211</td>\n",
       "    </tr>\n",
       "    <tr>\n",
       "      <th>...</th>\n",
       "      <td>...</td>\n",
       "      <td>...</td>\n",
       "      <td>...</td>\n",
       "      <td>...</td>\n",
       "    </tr>\n",
       "    <tr>\n",
       "      <th>5734</th>\n",
       "      <td>2022-08-15 11:44:13.825382528</td>\n",
       "      <td>0</td>\n",
       "      <td>64</td>\n",
       "      <td>0.175052</td>\n",
       "    </tr>\n",
       "    <tr>\n",
       "      <th>5191</th>\n",
       "      <td>2022-05-20 13:13:13.879387936</td>\n",
       "      <td>492</td>\n",
       "      <td>99</td>\n",
       "      <td>3.164147</td>\n",
       "    </tr>\n",
       "    <tr>\n",
       "      <th>5390</th>\n",
       "      <td>2022-07-04 06:17:10.423042304</td>\n",
       "      <td>41</td>\n",
       "      <td>99</td>\n",
       "      <td>2.588583</td>\n",
       "    </tr>\n",
       "    <tr>\n",
       "      <th>860</th>\n",
       "      <td>2023-08-24 20:01:56.651665152</td>\n",
       "      <td>175</td>\n",
       "      <td>74</td>\n",
       "      <td>4.784344</td>\n",
       "    </tr>\n",
       "    <tr>\n",
       "      <th>7270</th>\n",
       "      <td>2020-12-03 02:04:25.706570656</td>\n",
       "      <td>367</td>\n",
       "      <td>76</td>\n",
       "      <td>3.485723</td>\n",
       "    </tr>\n",
       "  </tbody>\n",
       "</table>\n",
       "<p>8000 rows × 4 columns</p>\n",
       "</div>"
      ],
      "text/plain": [
       "                          timestamp  distance_from_safe_zone  heart_rate  \\\n",
       "9254  2021-07-23 20:19:39.477947792                      423          72   \n",
       "1561  2021-06-16 07:05:33.753375336                      148         103   \n",
       "1670  2022-04-01 14:27:32.565256520                       28          86   \n",
       "6087  2021-07-12 17:48:52.493249320                        0          66   \n",
       "6669  2022-05-09 03:41:38.289828976                        0          72   \n",
       "...                             ...                      ...         ...   \n",
       "5734  2022-08-15 11:44:13.825382528                        0          64   \n",
       "5191  2022-05-20 13:13:13.879387936                      492          99   \n",
       "5390  2022-07-04 06:17:10.423042304                       41          99   \n",
       "860   2023-08-24 20:01:56.651665152                      175          74   \n",
       "7270  2020-12-03 02:04:25.706570656                      367          76   \n",
       "\n",
       "         speed  \n",
       "9254  3.375025  \n",
       "1561  2.300360  \n",
       "1670  4.887102  \n",
       "6087  0.323448  \n",
       "6669  0.334211  \n",
       "...        ...  \n",
       "5734  0.175052  \n",
       "5191  3.164147  \n",
       "5390  2.588583  \n",
       "860   4.784344  \n",
       "7270  3.485723  \n",
       "\n",
       "[8000 rows x 4 columns]"
      ]
     },
     "execution_count": 17,
     "metadata": {},
     "output_type": "execute_result"
    }
   ],
   "source": [
    "from sklearn.model_selection import train_test_split\n",
    "\n",
    "X_train, X_test, y_train, y_test = train_test_split(X, y, test_size=0.2, random_state=42)\n",
    "\n",
    "X_train"
   ]
  },
  {
   "cell_type": "code",
   "execution_count": 18,
   "metadata": {},
   "outputs": [],
   "source": [
    "from sklearn.pipeline import Pipeline\n",
    "from sklearn.compose import ColumnTransformer\n",
    "from sklearn.preprocessing import StandardScaler, OneHotEncoder\n",
    "from sklearn.ensemble import RandomForestClassifier\n",
    "import pandas as pd\n",
    "\n",
    "# transform timestamp to day_of_week and hour_of_day\n",
    "X_train['timestamp'] = pd.to_datetime(X_train['timestamp'])\n",
    "X_train['day_of_week'] = X_train['timestamp'].dt.dayofweek\n",
    "X_train['hour_of_day'] = X_train['timestamp'].dt.hour\n",
    "X_train = X_train.drop('timestamp', axis=1)\n",
    "\n",
    "# pipeline for preprocessing label encoding and scaling and training\n",
    "preprocessor = Pipeline([\n",
    "    ('column_transformer', ColumnTransformer([\n",
    "        ('num', StandardScaler(), ['heart_rate', 'speed', 'distance_from_safe_zone', 'hour_of_day']),\n",
    "        ('cat', OneHotEncoder(), ['day_of_week'])\n",
    "    ]))\n",
    "])\n",
    "\n",
    "# pipeline for training\n",
    "pipeline = Pipeline([\n",
    "    ('preprocessor', preprocessor),\n",
    "    ('classifier', RandomForestClassifier(n_estimators=100, random_state=42))\n",
    "])\n",
    "\n",
    "# Example usage\n",
    "# Assuming X_train and y_train are already defined\n",
    "pipeline.fit(X_train, y_train)\n",
    "\n",
    "# transform timestamp to day_of_week and hour_of_day\n",
    "X_test['timestamp'] = pd.to_datetime(X_test['timestamp'])\n",
    "X_test['day_of_week'] = X_test['timestamp'].dt.dayofweek\n",
    "X_test['hour_of_day'] = X_test['timestamp'].dt.hour\n",
    "X_test = X_test.drop('timestamp', axis=1)\n",
    "\n",
    "predictions = pipeline.predict(X_test)"
   ]
  },
  {
   "cell_type": "code",
   "execution_count": 19,
   "metadata": {},
   "outputs": [
    {
     "name": "stdout",
     "output_type": "stream",
     "text": [
      "Accuracy: 1.00\n",
      "Report: \n",
      "              precision    recall  f1-score   support\n",
      "\n",
      "           0       1.00      1.00      1.00       968\n",
      "           1       1.00      1.00      1.00      1032\n",
      "\n",
      "    accuracy                           1.00      2000\n",
      "   macro avg       1.00      1.00      1.00      2000\n",
      "weighted avg       1.00      1.00      1.00      2000\n",
      "\n"
     ]
    }
   ],
   "source": [
    "# Evaluate the model\n",
    "from sklearn.metrics import accuracy_score, classification_report\n",
    "\n",
    "accuracy = accuracy_score(y_test, predictions)\n",
    "print(f'Accuracy: {accuracy:.2f}')\n",
    "\n",
    "report = classification_report(y_test, predictions)\n",
    "print(f'Report: \\n{report}')"
   ]
  },
  {
   "cell_type": "code",
   "execution_count": 20,
   "metadata": {},
   "outputs": [
    {
     "data": {
      "text/plain": [
       "['model.pkl']"
      ]
     },
     "execution_count": 20,
     "metadata": {},
     "output_type": "execute_result"
    }
   ],
   "source": [
    "# save the model\n",
    "import joblib\n",
    "\n",
    "joblib.dump(pipeline, 'model.pkl')"
   ]
  },
  {
   "cell_type": "code",
   "execution_count": 22,
   "metadata": {},
   "outputs": [
    {
     "name": "stdout",
     "output_type": "stream",
     "text": [
      "[1 1 0 ... 0 0 1]\n"
     ]
    }
   ],
   "source": [
    "# load the model\n",
    "model = joblib.load('model.pkl')\n",
    "\n",
    "# Example usage\n",
    "# Assuming X_test is already defined\n",
    "predictions = model.predict(X_test)\n",
    "print(predictions)"
   ]
  }
 ],
 "metadata": {
  "kernelspec": {
   "display_name": "WanderGuard_AI",
   "language": "python",
   "name": "python3"
  },
  "language_info": {
   "codemirror_mode": {
    "name": "ipython",
    "version": 3
   },
   "file_extension": ".py",
   "mimetype": "text/x-python",
   "name": "python",
   "nbconvert_exporter": "python",
   "pygments_lexer": "ipython3",
   "version": "3.12.7"
  }
 },
 "nbformat": 4,
 "nbformat_minor": 2
}
